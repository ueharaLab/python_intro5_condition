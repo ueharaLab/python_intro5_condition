{
 "cells": [
  {
   "cell_type": "markdown",
   "id": "1e92e26d",
   "metadata": {},
   "source": [
    "# 条件分岐と比較演算子\n",
    "1. 基本構文"
   ]
  },
  {
   "cell_type": "code",
   "execution_count": 7,
   "id": "35ad532e",
   "metadata": {},
   "outputs": [
    {
     "name": "stdout",
     "output_type": "stream",
     "text": [
      "aは5である\n",
      "aは5である\n",
      "2\n",
      "高崎市\n",
      "高崎\n",
      "高崎市\n"
     ]
    }
   ],
   "source": [
    "a = 5\n",
    "if a != 5:\n",
    "    print('aは5ではない')\n",
    "else:\n",
    "    print('aは5である')\n",
    "    \n",
    "if a == 5:\n",
    "    print('aは5である')\n",
    "else:\n",
    "    print('aは5ではない')\n",
    "    \n",
    "import random\n",
    "r=random.randint(1, 7)\n",
    "if r>3:\n",
    "    print(r)\n",
    "else:\n",
    "    print(r)\n",
    "\n",
    "\n",
    "\n",
    "city = ['高崎市','前橋市','伊勢崎市','水上市']\n",
    "if '高崎' in city:\n",
    "    print('高崎')\n",
    "elif '高崎市' in  city:\n",
    "    print('高崎市')\n",
    "    \n",
    "takasaki ='高崎市'\n",
    "if '高崎' in takasaki:\n",
    "    print('高崎')\n",
    "elif '高崎市' in takasaki:\n",
    "    print('高崎市')\n",
    "    \n",
    "if  '高崎' in takasaki and len(takasaki)==2:\n",
    "    print('高崎')\n",
    "else:\n",
    "    print(takasaki)\n",
    "    \n",
    "    "
   ]
  },
  {
   "cell_type": "markdown",
   "id": "68922dbf",
   "metadata": {},
   "source": [
    "2. 複合条件\n"
   ]
  },
  {
   "cell_type": "code",
   "execution_count": 2,
   "id": "2b4d0e3d",
   "metadata": {},
   "outputs": [
    {
     "name": "stdout",
     "output_type": "stream",
     "text": [
      "10\n",
      "10\n"
     ]
    }
   ],
   "source": [
    "a = 10\n",
    "if a % 2 ==0 and a >8:\n",
    "    print(a)\n",
    "\n",
    "if a % 2 ==0 or a>20:\n",
    "    print(a)"
   ]
  },
  {
   "cell_type": "markdown",
   "id": "9a17747f",
   "metadata": {},
   "source": [
    "3. 繰り返し中での条件分岐\n",
    "    - continue : 条件を満たした場合、繰り返し中での後続処理を飛ばして次の繰り返しを行う\n",
    "    - break : 条件を満たした場合、繰り返しを打ち切る"
   ]
  },
  {
   "cell_type": "code",
   "execution_count": 5,
   "id": "bffd1c6e",
   "metadata": {},
   "outputs": [
    {
     "name": "stdout",
     "output_type": "stream",
     "text": [
      "1\n",
      "3\n",
      "5\n",
      "7\n",
      "9\n",
      "1\n",
      "3\n",
      "5\n",
      "7\n",
      "9\n",
      "0\n",
      "1\n",
      "2\n",
      "3\n",
      "4\n",
      "5\n"
     ]
    }
   ],
   "source": [
    "# 以下は同じ結果になる。インデントが多いと読みにくくなることがあるので、continueを使う\n",
    "for i in range(10):\n",
    "    if i % 2==0:\n",
    "        continue\n",
    "    print(i)\n",
    "\n",
    "for i in range(10):\n",
    "    if i % 2 !=0:\n",
    "        print(i)\n",
    "\n",
    "for i in range(10):\n",
    "    if i >5:\n",
    "        break\n",
    "    print(i)"
   ]
  },
  {
   "cell_type": "markdown",
   "id": "ebf74b27",
   "metadata": {},
   "source": [
    "# 演習"
   ]
  },
  {
   "cell_type": "markdown",
   "id": "a8d43bcf",
   "metadata": {},
   "source": [
    "1. 以下と同じ処理を1階層のifに書き直せ（複合条件を使う"
   ]
  },
  {
   "cell_type": "code",
   "execution_count": 8,
   "id": "ac304fdf",
   "metadata": {},
   "outputs": [
    {
     "name": "stdout",
     "output_type": "stream",
     "text": [
      "今日は晴れ\n",
      "今日は晴れ\n"
     ]
    }
   ],
   "source": [
    "moji ='今日は晴れ'\n",
    "if len(moji) >2:\n",
    "     if '昨日' in moji:\n",
    "         print('昨日は晴れ')\n",
    "    \n",
    "     else:\n",
    "         print(moji)\n",
    "        \n"
   ]
  },
  {
   "cell_type": "markdown",
   "id": "6a55f35a",
   "metadata": {},
   "source": [
    "2. 0-9の整数について、奇数の合計値、偶数の合計値、すべての合計値をそれぞれ表示するように以下のコーディングを完成せよ\n"
   ]
  },
  {
   "cell_type": "code",
   "execution_count": 10,
   "id": "9c78c039",
   "metadata": {},
   "outputs": [
    {
     "name": "stdout",
     "output_type": "stream",
     "text": [
      "25 20 45\n"
     ]
    }
   ],
   "source": [
    "kisu =0\n",
    "gusu=0\n",
    "total=0\n",
    "for i in range(10):\n",
    "    "
   ]
  },
  {
   "cell_type": "markdown",
   "id": "e2b8202e",
   "metadata": {},
   "source": [
    "3. input('文字を入力して下さい')に対して、任意の文字を入力するとその文字を画面表示するという処理を繰り返し行うコーディングを完成せよ。ただし、'q'を入録した場合のみ、繰り返しを終了するように対応すること。"
   ]
  },
  {
   "cell_type": "code",
   "execution_count": null,
   "id": "d20fbbe2",
   "metadata": {},
   "outputs": [],
   "source": [
    "while True:\n",
    "    a=input('文字をにゅうりょくしてください')\n",
    "    "
   ]
  },
  {
   "cell_type": "markdown",
   "id": "c2d39a09",
   "metadata": {},
   "source": [
    "4. 以下のコーディングを結果が同じになるようにcontinueを使ったコーディングに修正せよ"
   ]
  },
  {
   "cell_type": "code",
   "execution_count": 3,
   "id": "f37f11c6",
   "metadata": {},
   "outputs": [
    {
     "name": "stdout",
     "output_type": "stream",
     "text": [
      "0\n",
      "3\n",
      "6\n",
      "9\n",
      "[0, 3, 6, 9]\n",
      "0\n",
      "3\n",
      "6\n",
      "9\n",
      "[0, 3, 6, 9]\n"
     ]
    }
   ],
   "source": [
    "byThree =[]\n",
    "for i in range(10):\n",
    "    if i % 3 == 0:\n",
    "        print(i)\n",
    "        byThree.append(i)\n",
    "print(byThree)\n",
    "\n"
   ]
  },
  {
   "cell_type": "markdown",
   "id": "0e102f61",
   "metadata": {},
   "source": [
    "5. リスト内包表記を使って、上記byThreeのリストを作成して画面表示せよ"
   ]
  },
  {
   "cell_type": "code",
   "execution_count": 5,
   "id": "f7c91a10",
   "metadata": {},
   "outputs": [
    {
     "name": "stdout",
     "output_type": "stream",
     "text": [
      "[0, 3, 6, 9]\n"
     ]
    }
   ],
   "source": []
  },
  {
   "cell_type": "markdown",
   "id": "7f78112c",
   "metadata": {},
   "source": [
    "6. 極値への漸近  \n",
    "- 関数$J(w)=2w^2+w$の極値を$w=10$から$w=-10$まで$0.1$刻みで小さくして勾配$\\frac{dJ}{dw_{n+1}}$が最小になる$w$を求めよ\n",
    "- 上記で求めた$w$の値が、方程式$\\frac{dJ}{dw}=0$の解を近似することを確認せよ"
   ]
  },
  {
   "cell_type": "code",
   "execution_count": 19,
   "id": "a4d62839",
   "metadata": {},
   "outputs": [
    {
     "name": "stdout",
     "output_type": "stream",
     "text": [
      "-0.2999999999999634\n"
     ]
    }
   ],
   "source": [
    "import numpy as np\n",
    "ws = np.arange(10,-10.1,-0.1)\n",
    "\n",
    "w_min = 0\n",
    "min_d = 9999\n",
    "for w in ws:"
   ]
  },
  {
   "cell_type": "markdown",
   "id": "8af13066",
   "metadata": {},
   "source": [
    "6. 勾配降下法による関数の最小化  \n",
    "スライドの勾配降下法で極値を漸近的に求めるプログラムを書け。条件は以下とする(J'=0よりw=-0.25のときに最小化する。これと勾配降下法の答えが一致するはず)\n",
    "- wの初期値を1000,\n",
    "- wの学習率α=0.1\n",
    "- 収束判定条件　p.7 (1)(2)の2通りでかけ  \n",
    "\n",
    "ヒント：ループにwhile Ture: を使う。収束判定条件を満たしたらbreakして、wを表示する"
   ]
  },
  {
   "cell_type": "code",
   "execution_count": 1,
   "id": "2eb6cf9a",
   "metadata": {},
   "outputs": [
    {
     "name": "stdout",
     "output_type": "stream",
     "text": [
      "-0.24897625375833027\n"
     ]
    }
   ],
   "source": [
    "w = 1000\n",
    "while True:\n",
    "    "
   ]
  },
  {
   "cell_type": "code",
   "execution_count": 3,
   "id": "e29d8338",
   "metadata": {},
   "outputs": [
    {
     "name": "stdout",
     "output_type": "stream",
     "text": [
      "-0.21342927520327012\n"
     ]
    }
   ],
   "source": [
    "w = 1000\n",
    "J_prev=99\n",
    "while True:\n",
    "    "
   ]
  },
  {
   "cell_type": "code",
   "execution_count": null,
   "id": "3e6c8622",
   "metadata": {},
   "outputs": [],
   "source": []
  }
 ],
 "metadata": {
  "kernelspec": {
   "display_name": "Python 3 (ipykernel)",
   "language": "python",
   "name": "python3"
  },
  "language_info": {
   "codemirror_mode": {
    "name": "ipython",
    "version": 3
   },
   "file_extension": ".py",
   "mimetype": "text/x-python",
   "name": "python",
   "nbconvert_exporter": "python",
   "pygments_lexer": "ipython3",
   "version": "3.11.7"
  }
 },
 "nbformat": 4,
 "nbformat_minor": 5
}
